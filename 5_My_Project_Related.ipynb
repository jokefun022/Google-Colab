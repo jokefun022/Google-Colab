{
  "nbformat": 4,
  "nbformat_minor": 0,
  "metadata": {
    "colab": {
      "provenance": [],
      "include_colab_link": true
    },
    "kernelspec": {
      "name": "python3",
      "display_name": "Python 3"
    },
    "language_info": {
      "name": "python"
    }
  },
  "cells": [
    {
      "cell_type": "markdown",
      "metadata": {
        "id": "view-in-github",
        "colab_type": "text"
      },
      "source": [
        "<a href=\"https://colab.research.google.com/github/jokefun022/Google-Colab/blob/main/5_My_Project_Related.ipynb\" target=\"_parent\"><img src=\"https://colab.research.google.com/assets/colab-badge.svg\" alt=\"Open In Colab\"/></a>"
      ]
    },
    {
      "cell_type": "code",
      "source": [
        "import pandas as pd\n",
        "import matplotlib.pyplot as plt\n",
        "import seaborn as sns\n",
        "from sklearn.model_selection import train_test_split\n",
        "from sklearn.feature_extraction.text import TfidfVectorizer\n",
        "from sklearn.naive_bayes import MultinomialNB\n",
        "from sklearn.metrics import classification_report, confusion_matrix\n",
        "import joblib\n",
        "\n",
        "# Load the main dataset\n",
        "tweets_df = pd.read_csv('/content/emoji_cleaned.csv')  # Replace with your file path\n",
        "\n",
        "# Load the emoji mapping file\n",
        "mapping_df = pd.read_csv('/content/us_mapping.txt', header=None, names=['Label', 'Emoji', 'Description'])\n"
      ],
      "metadata": {
        "id": "9Uk7PVRwxQYW"
      },
      "execution_count": null,
      "outputs": []
    },
    {
      "cell_type": "code",
      "source": [
        "tweets_df = pd.read_csv('emoji_cleaned.csv')  # Load main dataset\n",
        "print(tweets_df.head())  # Show data preview\n",
        "\n",
        "mapping_df = pd.read_csv('us_mapping.txt', sep='\\t', header=None, names=['Label', 'Emoji', 'Description'])  # Load mapping dataset\n",
        "print(mapping_df.head())  # Show mapping preview\n"
      ],
      "metadata": {
        "colab": {
          "base_uri": "https://localhost:8080/"
        },
        "id": "WnJZo_9jxcad",
        "outputId": "a7618021-5491-491b-c1f6-c394666d42db"
      },
      "execution_count": null,
      "outputs": [
        {
          "output_type": "stream",
          "name": "stdout",
          "text": [
            "                                               Tweet  Label\n",
            "0  a little throwback with my favourite person  w...      0\n",
            "1  glam on  yesterday for kcon makeup using  in f...      7\n",
            "2  democracy plaza in the wake of a stunning outc...     11\n",
            "3       then amp now vilo  walt disney magic kingdom      0\n",
            "4                   who never  a galaxy far far away      2\n",
            "  Label                         Emoji  Description\n",
            "0    ❤️                     Red heart          NaN\n",
            "1     😍   Smiling face with hearteyes          NaN\n",
            "2     😂        Face with tears of joy          NaN\n",
            "3     💕                    Two hearts          NaN\n",
            "4     🔥                          Fire          NaN\n"
          ]
        }
      ]
    },
    {
      "source": [
        "import pandas as pd\n",
        "import matplotlib.pyplot as plt\n",
        "import seaborn as sns\n",
        "\n",
        "# Load the main dataset\n",
        "tweets_df = pd.read_csv('emoji_cleaned.csv')  # Replace with your file path\n",
        "\n",
        "# Load the emoji mapping file\n",
        "mapping_df = pd.read_csv('us_mapping.txt', sep='\\t', header=None, names=['Label', 'Emoji', 'Description'])\n",
        "\n",
        "# Convert 'Label' column in both DataFrames to the same data type (e.g., string)\n",
        "tweets_df['Label'] = tweets_df['Label'].astype(str)\n",
        "mapping_df['Label'] = mapping_df['Label'].astype(str)\n",
        "\n",
        "# Merge datasets on 'Label'\n",
        "tweets_df = tweets_df.merge(mapping_df, on='Label', how='left')\n",
        "\n",
        "# Display merged dataset\n",
        "print(tweets_df.head())\n",
        "\n",
        "# Visualize label distribution\n",
        "plt.figure(figsize=(8, 5))\n",
        "sns.countplot(x='Label', data=tweets_df, palette='plasma')\n",
        "plt.title('Distribution of Tweet Labels')\n",
        "plt.xlabel('Label')\n",
        "plt.ylabel('Count')\n",
        "plt.show()\n",
        "\n",
        "# Visualize tweet length distribution\n",
        "# Handle missing or float values in 'Tweet' column\n",
        "tweets_df['Length'] = tweets_df['Tweet'].astype(str).apply(len)  # Convert to string before applying len\n",
        "# Alternatively, you can use:\n",
        "# tweets_df['Length'] = tweets_df['Tweet'].apply(lambda x: len(str(x)) if pd.notna(x) else 0)\n",
        "\n",
        "plt.figure(figsize=(8, 5))\n",
        "sns.histplot(tweets_df['Length'], kde=True, color='purple', bins=30)\n",
        "plt.title('Distribution of Tweet Lengths')\n",
        "plt.xlabel('Tweet Length')\n",
        "plt.ylabel('Density')\n",
        "plt.show()"
      ],
      "cell_type": "code",
      "metadata": {
        "colab": {
          "base_uri": "https://localhost:8080/",
          "height": 1000
        },
        "id": "69OYJTgbyRcM",
        "outputId": "1733bfb0-1fc6-4b78-8f65-5ddf7b04ab4f"
      },
      "execution_count": null,
      "outputs": [
        {
          "output_type": "stream",
          "name": "stdout",
          "text": [
            "                                               Tweet Label Emoji  Description\n",
            "0  a little throwback with my favourite person  w...     0   NaN          NaN\n",
            "1  glam on  yesterday for kcon makeup using  in f...     7   NaN          NaN\n",
            "2  democracy plaza in the wake of a stunning outc...    11   NaN          NaN\n",
            "3       then amp now vilo  walt disney magic kingdom     0   NaN          NaN\n",
            "4                   who never  a galaxy far far away     2   NaN          NaN\n"
          ]
        },
        {
          "output_type": "stream",
          "name": "stderr",
          "text": [
            "<ipython-input-23-a2cbb4bd8b97>:23: FutureWarning: \n",
            "\n",
            "Passing `palette` without assigning `hue` is deprecated and will be removed in v0.14.0. Assign the `x` variable to `hue` and set `legend=False` for the same effect.\n",
            "\n",
            "  sns.countplot(x='Label', data=tweets_df, palette='plasma')\n"
          ]
        },
        {
          "output_type": "display_data",
          "data": {
            "text/plain": [
              "<Figure size 800x500 with 1 Axes>"
            ],
            "image/png": "[encoded data removed]"
          },
          "metadata": {}
        },
        {
          "output_type": "display_data",
          "data": {
            "text/plain": [
              "<Figure size 800x500 with 1 Axes>"
            ],
            "image/png": "[encoded data removed]"
          },
          "metadata": {}
        }
      ]
    },
    {
      "source": [
        "# Prepare features and labels\n",
        "X = tweets_df['Tweet'].fillna('')  # Replace NaN values with empty strings\n",
        "y = tweets_df['Label']\n",
        "\n",
        "# Split data into training and testing sets\n",
        "X_train, X_test, y_train, y_test = train_test_split(X, y, test_size=0.2, random_state=42, stratify=y)\n",
        "\n",
        "# Vectorize the text using TF-IDF\n",
        "tfidf = TfidfVectorizer(max_features=2000, stop_words='english')\n",
        "X_train_tfidf = tfidf.fit_transform(X_train)\n",
        "X_test_tfidf = tfidf.transform(X_test)"
      ],
      "cell_type": "code",
      "metadata": {
        "id": "GYAH1mc3yiui"
      },
      "execution_count": null,
      "outputs": []
    },
    {
      "cell_type": "code",
      "source": [
        "# Train a Multinomial Naive Bayes model\n",
        "nb_clf = MultinomialNB()\n",
        "nb_clf.fit(X_train_tfidf, y_train)\n",
        "\n",
        "# Make predictions\n",
        "y_pred = nb_clf.predict(X_test_tfidf)\n",
        "\n",
        "# Evaluate the model\n",
        "print(\"Classification Report:\\n\", classification_report(y_test, y_pred))\n",
        "print(\"Confusion Matrix:\\n\", confusion_matrix(y_test, y_pred))\n"
      ],
      "metadata": {
        "colab": {
          "base_uri": "https://localhost:8080/"
        },
        "id": "DHL4arAMypoS",
        "outputId": "166485e1-2090-4b58-d506-1737ad56bd00"
      },
      "execution_count": null,
      "outputs": [
        {
          "output_type": "stream",
          "name": "stderr",
          "text": [
            "/usr/local/lib/python3.10/dist-packages/sklearn/metrics/_classification.py:1531: UndefinedMetricWarning: Precision is ill-defined and being set to 0.0 in labels with no predicted samples. Use `zero_division` parameter to control this behavior.\n",
            "  _warn_prf(average, modifier, f\"{metric.capitalize()} is\", len(result))\n",
            "/usr/local/lib/python3.10/dist-packages/sklearn/metrics/_classification.py:1531: UndefinedMetricWarning: Precision is ill-defined and being set to 0.0 in labels with no predicted samples. Use `zero_division` parameter to control this behavior.\n",
            "  _warn_prf(average, modifier, f\"{metric.capitalize()} is\", len(result))\n",
            "/usr/local/lib/python3.10/dist-packages/sklearn/metrics/_classification.py:1531: UndefinedMetricWarning: Precision is ill-defined and being set to 0.0 in labels with no predicted samples. Use `zero_division` parameter to control this behavior.\n",
            "  _warn_prf(average, modifier, f\"{metric.capitalize()} is\", len(result))\n"
          ]
        },
        {
          "output_type": "stream",
          "name": "stdout",
          "text": [
            "Classification Report:\n",
            "               precision    recall  f1-score   support\n",
            "\n",
            "           0       0.25      0.88      0.39      2152\n",
            "           1       0.23      0.14      0.17      1056\n",
            "          10       0.28      0.02      0.04       309\n",
            "          11       0.61      0.25      0.36       306\n",
            "          12       0.46      0.17      0.24       293\n",
            "          13       0.00      0.00      0.00       269\n",
            "          14       0.00      0.00      0.00       275\n",
            "          15       0.33      0.01      0.02       250\n",
            "          16       0.00      0.00      0.00       261\n",
            "          17       0.71      0.31      0.43       256\n",
            "          18       0.25      0.01      0.02       257\n",
            "          19       0.00      0.00      0.00       243\n",
            "           2       0.37      0.44      0.40      1048\n",
            "           3       0.12      0.01      0.01       577\n",
            "           4       0.48      0.21      0.30       503\n",
            "           5       0.14      0.00      0.00       463\n",
            "           6       0.35      0.02      0.03       410\n",
            "           7       0.44      0.05      0.09       379\n",
            "           8       0.40      0.01      0.01       359\n",
            "           9       0.33      0.00      0.01       334\n",
            "\n",
            "    accuracy                           0.28     10000\n",
            "   macro avg       0.29      0.13      0.13     10000\n",
            "weighted avg       0.29      0.28      0.20     10000\n",
            "\n",
            "Confusion Matrix:\n",
            " [[1885  101    2   11   11    0    0    0    0   10    0    0  100    6\n",
            "    11    1    3   10    0    1]\n",
            " [ 798  144    1    5    6    0    0    0    0    3    1    0   85    0\n",
            "     9    1    0    2    0    1]\n",
            " [ 232   22    7    3    1    0    0    0    0    0    3    0   30    0\n",
            "     5    1    3    1    1    0]\n",
            " [ 196   10    0   78    3    0    0    1    0    0    0    0   14    0\n",
            "     1    0    1    2    0    0]\n",
            " [ 215   16    0    1   49    0    0    1    0    0    0    0    9    0\n",
            "     1    0    0    1    0    0]\n",
            " [ 243   10    0    0    1    0    0    0    0    1    0    0   12    0\n",
            "     1    0    0    1    0    0]\n",
            " [ 183   22    1    1    1    0    0    1    0    0    0    0   57    0\n",
            "     7    0    0    2    0    0]\n",
            " [ 161   13    0    1    1    0    0    2    0    0    0    0   58    1\n",
            "    12    0    1    0    0    0]\n",
            " [ 184   20    0    1    1    0    0    0    0    1    0    0   50    1\n",
            "     2    0    0    0    1    0]\n",
            " [ 154    4    0    2    1    0    0    0    0   80    0    0    9    1\n",
            "     4    0    0    1    0    0]\n",
            " [ 186   16    4    0    1    0    0    0    0    3    2    0   35    2\n",
            "     8    0    0    0    0    0]\n",
            " [ 161   15    0    0    1    0    0    0    0    0    0    0   56    2\n",
            "     6    1    1    0    0    0]\n",
            " [ 511   41    1    6    6    0    0    0    0    3    1    0  462    2\n",
            "    11    1    3    0    0    0]\n",
            " [ 514   26    1    3    2    0    0    0    0    2    0    0   24    3\n",
            "     2    0    0    0    0    0]\n",
            " [ 276   26    2    6    2    0    0    0    0    2    0    0   77    1\n",
            "   108    0    1    2    0    0]\n",
            " [ 356   32    0    4    4    0    0    0    0    3    0    0   57    2\n",
            "     4    1    0    0    0    0]\n",
            " [ 283   37    1    1    8    0    0    1    0    1    0    0   49    2\n",
            "    18    0    7    1    1    0]\n",
            " [ 280   31    4    1    1    0    0    0    0    2    1    0   29    1\n",
            "    10    0    0   19    0    0]\n",
            " [ 312   17    0    2    5    0    0    0    0    0    0    0   17    0\n",
            "     4    0    0    0    2    0]\n",
            " [ 271   20    1    1    2    0    0    0    0    2    0    0   31    0\n",
            "     3    1    0    1    0    1]]\n"
          ]
        }
      ]
    },
    {
      "cell_type": "code",
      "source": [
        "# Save the model\n",
        "joblib.dump(nb_clf, 'emoji_predictor.pkl')\n",
        "\n",
        "# Load the model for later use\n",
        "loaded_model = joblib.load('emoji_predictor.pkl')\n"
      ],
      "metadata": {
        "id": "Ya9dY57KytpL"
      },
      "execution_count": null,
      "outputs": []
    },
    {
      "source": [
        "emoji = emoji_row['Emoji'].values[0]\n",
        "description = emoji_row['Description'].values[0]"
      ],
      "cell_type": "code",
      "metadata": {
        "colab": {
          "base_uri": "https://localhost:8080/",
          "height": 158
        },
        "id": "R-vKnCsVzAUD",
        "outputId": "82ba08c7-1045-4ef5-ce97-dd044480ec91"
      },
      "execution_count": null,
      "outputs": [
        {
          "output_type": "error",
          "ename": "NameError",
          "evalue": "name 'emoji_row' is not defined",
          "traceback": [
            "\u001b[0;31m---------------------------------------------------------------------------\u001b[0m",
            "\u001b[0;31mNameError\u001b[0m                                 Traceback (most recent call last)",
            "\u001b[0;32m<ipython-input-29-8ea358700c31>\u001b[0m in \u001b[0;36m<cell line: 1>\u001b[0;34m()\u001b[0m\n\u001b[0;32m----> 1\u001b[0;31m \u001b[0memoji\u001b[0m \u001b[0;34m=\u001b[0m \u001b[0memoji_row\u001b[0m\u001b[0;34m[\u001b[0m\u001b[0;34m'Emoji'\u001b[0m\u001b[0;34m]\u001b[0m\u001b[0;34m.\u001b[0m\u001b[0mvalues\u001b[0m\u001b[0;34m[\u001b[0m\u001b[0;36m0\u001b[0m\u001b[0;34m]\u001b[0m\u001b[0;34m\u001b[0m\u001b[0;34m\u001b[0m\u001b[0m\n\u001b[0m\u001b[1;32m      2\u001b[0m \u001b[0mdescription\u001b[0m \u001b[0;34m=\u001b[0m \u001b[0memoji_row\u001b[0m\u001b[0;34m[\u001b[0m\u001b[0;34m'Description'\u001b[0m\u001b[0;34m]\u001b[0m\u001b[0;34m.\u001b[0m\u001b[0mvalues\u001b[0m\u001b[0;34m[\u001b[0m\u001b[0;36m0\u001b[0m\u001b[0;34m]\u001b[0m\u001b[0;34m\u001b[0m\u001b[0;34m\u001b[0m\u001b[0m\n",
            "\u001b[0;31mNameError\u001b[0m: name 'emoji_row' is not defined"
          ]
        }
      ]
    },
    {
      "source": [
        "import pandas as pd\n",
        "import matplotlib.pyplot as plt\n",
        "import seaborn as sns\n",
        "from sklearn.model_selection import train_test_split\n",
        "from sklearn.feature_extraction.text import TfidfVectorizer\n",
        "from sklearn.naive_bayes import MultinomialNB\n",
        "from sklearn.metrics import classification_report, confusion_matrix\n",
        "import joblib\n",
        "\n",
        "# Function to predict emoji for a single tweet\n",
        "def predict_emoji(tweet, model, vectorizer, mapping_df):\n",
        "    tweet_tfidf = vectorizer.transform([tweet])\n",
        "    label = model.predict(tweet_tfidf)[0]\n",
        "\n",
        "    # Check if the label exists in the mapping DataFrame\n",
        "    if label in mapping_df['Label'].values:  # Check if label is present\n",
        "        emoji_row = mapping_df[mapping_df['Label'] == label]\n",
        "        emoji = emoji_row['Emoji'].values[0]\n",
        "        description = emoji_row['Description'].values[0]\n",
        "        return emoji, description\n",
        "    else:\n",
        "        return \"❓\", \"Unknown Emoji\"  # Return a default emoji if not found"
      ],
      "cell_type": "code",
      "metadata": {
        "id": "1gkN0ZuBzDOq"
      },
      "execution_count": null,
      "outputs": []
    },
    {
      "source": [
        "emoji = emoji_row['Emoji'].values[0]\n",
        "description = emoji_row['Description'].values[0]"
      ],
      "cell_type": "code",
      "metadata": {
        "colab": {
          "base_uri": "https://localhost:8080/",
          "height": 158
        },
        "id": "KyhOjOvBzG2Y",
        "outputId": "dc0ee246-db77-4636-fd6d-fb77485e0aa6"
      },
      "execution_count": null,
      "outputs": [
        {
          "output_type": "error",
          "ename": "NameError",
          "evalue": "name 'emoji_row' is not defined",
          "traceback": [
            "\u001b[0;31m---------------------------------------------------------------------------\u001b[0m",
            "\u001b[0;31mNameError\u001b[0m                                 Traceback (most recent call last)",
            "\u001b[0;32m<ipython-input-31-8ea358700c31>\u001b[0m in \u001b[0;36m<cell line: 1>\u001b[0;34m()\u001b[0m\n\u001b[0;32m----> 1\u001b[0;31m \u001b[0memoji\u001b[0m \u001b[0;34m=\u001b[0m \u001b[0memoji_row\u001b[0m\u001b[0;34m[\u001b[0m\u001b[0;34m'Emoji'\u001b[0m\u001b[0;34m]\u001b[0m\u001b[0;34m.\u001b[0m\u001b[0mvalues\u001b[0m\u001b[0;34m[\u001b[0m\u001b[0;36m0\u001b[0m\u001b[0;34m]\u001b[0m\u001b[0;34m\u001b[0m\u001b[0;34m\u001b[0m\u001b[0m\n\u001b[0m\u001b[1;32m      2\u001b[0m \u001b[0mdescription\u001b[0m \u001b[0;34m=\u001b[0m \u001b[0memoji_row\u001b[0m\u001b[0;34m[\u001b[0m\u001b[0;34m'Description'\u001b[0m\u001b[0;34m]\u001b[0m\u001b[0;34m.\u001b[0m\u001b[0mvalues\u001b[0m\u001b[0;34m[\u001b[0m\u001b[0;36m0\u001b[0m\u001b[0;34m]\u001b[0m\u001b[0;34m\u001b[0m\u001b[0;34m\u001b[0m\u001b[0m\n",
            "\u001b[0;31mNameError\u001b[0m: name 'emoji_row' is not defined"
          ]
        }
      ]
    },
    {
      "source": [
        "import pandas as pd\n",
        "import matplotlib.pyplot as plt\n",
        "import seaborn as sns\n",
        "from sklearn.model_selection import train_test_split\n",
        "from sklearn.feature_extraction.text import TfidfVectorizer\n",
        "from sklearn.naive_bayes import MultinomialNB\n",
        "from sklearn.metrics import classification_report, confusion_matrix\n",
        "import joblib\n",
        "\n",
        "# Function to predict emoji for a single tweet\n",
        "def predict_emoji(tweet, model, vectorizer, mapping_df):\n",
        "    tweet_tfidf = vectorizer.transform([tweet])\n",
        "    label = model.predict(tweet_tfidf)[0]\n",
        "\n",
        "    # Check if the label exists in the mapping DataFrame\n",
        "    if label in mapping_df['Label'].values:  # Check if label is present\n",
        "        emoji_row = mapping_df[mapping_df['Label'] == label]\n",
        "        emoji = emoji_row['Emoji'].values[0]\n",
        "        description = emoji_row['Description'].values[0]\n",
        "        return emoji, description\n",
        "    else:\n",
        "        return \"❓\", \"Unknown Emoji\"  # Return a default emoji if not found\n",
        "\n",
        "# Example prediction\n",
        "new_tweet = \"Feeling happy with life!\"\n",
        "predicted_emoji, emoji_description = predict_emoji(new_tweet, nb_clf, tfidf, mapping_df)\n",
        "# Assuming nb_clf, tfidf, and mapping_df are defined\n",
        "print(f\"Tweet: {new_tweet}\")\n",
        "print(f\"Predicted Emoji: {predicted_emoji}\")\n",
        "print(f\"Description: {emoji_description}\")\n",
        "\n",
        "# Now you can access the emoji and description:\n",
        "print(predicted_emoji)  # This will print the predicted emoji\n",
        "print(emoji_description) # This will print the description"
      ],
      "cell_type": "code",
      "metadata": {
        "colab": {
          "base_uri": "https://localhost:8080/"
        },
        "id": "5cnzwVopzSiU",
        "outputId": "45c5b26e-138e-48e5-cdf1-69d58a45556e"
      },
      "execution_count": null,
      "outputs": [
        {
          "output_type": "stream",
          "name": "stdout",
          "text": [
            "Tweet: Feeling happy with life!\n",
            "Predicted Emoji: ❓\n",
            "Description: Unknown Emoji\n",
            "❓\n",
            "Unknown Emoji\n"
          ]
        }
      ]
    }
  ]
}